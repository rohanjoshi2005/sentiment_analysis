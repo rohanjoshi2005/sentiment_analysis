{
 "cells": [
  {
   "cell_type": "code",
   "execution_count": 32,
   "id": "6e403119",
   "metadata": {},
   "outputs": [
    {
     "data": {
      "text/html": [
       "<pre style=\"white-space:pre;overflow-x:auto;line-height:normal;font-family:Menlo,'DejaVu Sans Mono',consolas,'Courier New',monospace\">Initialized MLflow to track repo <span style=\"color: #008000; text-decoration-color: #008000\">\"rohanjoshi2005/sentiment_analysis\"</span>\n",
       "</pre>\n"
      ],
      "text/plain": [
       "Initialized MLflow to track repo \u001b[32m\"rohanjoshi2005/sentiment_analysis\"\u001b[0m\n"
      ]
     },
     "metadata": {},
     "output_type": "display_data"
    },
    {
     "data": {
      "text/html": [
       "<pre style=\"white-space:pre;overflow-x:auto;line-height:normal;font-family:Menlo,'DejaVu Sans Mono',consolas,'Courier New',monospace\">Repository rohanjoshi2005/sentiment_analysis initialized!\n",
       "</pre>\n"
      ],
      "text/plain": [
       "Repository rohanjoshi2005/sentiment_analysis initialized!\n"
      ]
     },
     "metadata": {},
     "output_type": "display_data"
    }
   ],
   "source": [
    "import mlflow\n",
    "import dagshub\n",
    "dagshub.init(repo_owner='rohanjoshi2005', repo_name='sentiment_analysis', mlflow=True)\n",
    "mlflow.set_tracking_uri(\"https://dagshub.com/rohanjoshi2005/sentiment_analysis.mlflow\")"
   ]
  },
  {
   "cell_type": "code",
   "execution_count": 9,
   "id": "52668ad4",
   "metadata": {},
   "outputs": [],
   "source": [
    "import pandas as pd\n",
    "import numpy as np"
   ]
  },
  {
   "cell_type": "code",
   "execution_count": 10,
   "id": "b26ca79a",
   "metadata": {},
   "outputs": [
    {
     "data": {
      "text/html": [
       "<div>\n",
       "<style scoped>\n",
       "    .dataframe tbody tr th:only-of-type {\n",
       "        vertical-align: middle;\n",
       "    }\n",
       "\n",
       "    .dataframe tbody tr th {\n",
       "        vertical-align: top;\n",
       "    }\n",
       "\n",
       "    .dataframe thead th {\n",
       "        text-align: right;\n",
       "    }\n",
       "</style>\n",
       "<table border=\"1\" class=\"dataframe\">\n",
       "  <thead>\n",
       "    <tr style=\"text-align: right;\">\n",
       "      <th></th>\n",
       "      <th>clean_comment</th>\n",
       "      <th>category</th>\n",
       "    </tr>\n",
       "  </thead>\n",
       "  <tbody>\n",
       "    <tr>\n",
       "      <th>0</th>\n",
       "      <td>family mormon have never tried explain them t...</td>\n",
       "      <td>1</td>\n",
       "    </tr>\n",
       "    <tr>\n",
       "      <th>1</th>\n",
       "      <td>buddhism has very much lot compatible with chr...</td>\n",
       "      <td>1</td>\n",
       "    </tr>\n",
       "    <tr>\n",
       "      <th>2</th>\n",
       "      <td>seriously don say thing first all they won get...</td>\n",
       "      <td>-1</td>\n",
       "    </tr>\n",
       "    <tr>\n",
       "      <th>3</th>\n",
       "      <td>what you have learned yours and only yours wha...</td>\n",
       "      <td>0</td>\n",
       "    </tr>\n",
       "    <tr>\n",
       "      <th>4</th>\n",
       "      <td>for your own benefit you may want read living ...</td>\n",
       "      <td>1</td>\n",
       "    </tr>\n",
       "  </tbody>\n",
       "</table>\n",
       "</div>"
      ],
      "text/plain": [
       "                                       clean_comment  category\n",
       "0   family mormon have never tried explain them t...         1\n",
       "1  buddhism has very much lot compatible with chr...         1\n",
       "2  seriously don say thing first all they won get...        -1\n",
       "3  what you have learned yours and only yours wha...         0\n",
       "4  for your own benefit you may want read living ...         1"
      ]
     },
     "execution_count": 10,
     "metadata": {},
     "output_type": "execute_result"
    }
   ],
   "source": [
    "df=pd.read_csv(\"Reddit_Data.csv\")\n",
    "df.head()"
   ]
  },
  {
   "cell_type": "code",
   "execution_count": 11,
   "id": "fd2423e2",
   "metadata": {},
   "outputs": [],
   "source": [
    "df.dropna(inplace=True)"
   ]
  },
  {
   "cell_type": "code",
   "execution_count": 12,
   "id": "1182c2e4",
   "metadata": {},
   "outputs": [],
   "source": [
    "df.drop_duplicates(inplace=True)"
   ]
  },
  {
   "cell_type": "code",
   "execution_count": 13,
   "id": "09cd517b",
   "metadata": {},
   "outputs": [],
   "source": [
    "df=df[~(df[\"clean_comment\"].str.strip()== '')]"
   ]
  },
  {
   "cell_type": "code",
   "execution_count": 14,
   "id": "492fe24b",
   "metadata": {},
   "outputs": [],
   "source": [
    "import re\n",
    "from nltk.corpus import stopwords\n",
    "from nltk.stem import WordNetLemmatizer\n",
    "from nltk.tokenize import word_tokenize"
   ]
  },
  {
   "cell_type": "code",
   "execution_count": 15,
   "id": "b320981c",
   "metadata": {},
   "outputs": [
    {
     "name": "stderr",
     "output_type": "stream",
     "text": [
      "[nltk_data] Downloading package stopwords to\n",
      "[nltk_data]     C:\\Users\\rohan\\AppData\\Roaming\\nltk_data...\n",
      "[nltk_data]   Package stopwords is already up-to-date!\n",
      "[nltk_data] Downloading package wordnet to\n",
      "[nltk_data]     C:\\Users\\rohan\\AppData\\Roaming\\nltk_data...\n",
      "[nltk_data]   Package wordnet is already up-to-date!\n",
      "[nltk_data] Downloading package punkt_tab to\n",
      "[nltk_data]     C:\\Users\\rohan\\AppData\\Roaming\\nltk_data...\n",
      "[nltk_data]   Package punkt_tab is already up-to-date!\n"
     ]
    },
    {
     "data": {
      "text/plain": [
       "True"
      ]
     },
     "execution_count": 15,
     "metadata": {},
     "output_type": "execute_result"
    }
   ],
   "source": [
    "import nltk\n",
    "nltk.download(\"stopwords\")\n",
    "nltk.download(\"wordnet\")\n",
    "nltk.download('punkt_tab')"
   ]
  },
  {
   "cell_type": "code",
   "execution_count": 16,
   "id": "b974179a",
   "metadata": {},
   "outputs": [],
   "source": [
    "# preprocessing function\n",
    "\n",
    "def cleaning(text):\n",
    "    # converting to lowercase\n",
    "    text=text.lower()\n",
    "    \n",
    "    # remove url's\n",
    "    text = re.sub(r'http\\S+|www\\S+|https\\S+','', text, flags=re.MULTILINE)\n",
    "\n",
    "    # Remove user mentions and hashtags\n",
    "    text = re.sub(r'@\\w+|\\#', '', text)\n",
    "\n",
    "    # Remove special characters and numbers\n",
    "    text = re.sub(r'[^a-zA-Z\\s]', '', text)\n",
    "\n",
    "    # Remove extra whitespace\n",
    "    text = re.sub(r'\\s+', ' ', text).strip()\n",
    "\n",
    "    # Remove stopwords\n",
    "    stop_words = set(stopwords.words('english'))\n",
    "\n",
    "    # tokens = text.split()\n",
    "    tokens = word_tokenize(text)\n",
    "    tokens = [word for word in tokens if word not in stop_words]\n",
    "\n",
    "    # Lemmatization\n",
    "    lemmatizer=WordNetLemmatizer()\n",
    "    tokens=[lemmatizer.lemmatize(word) for word in tokens]\n",
    "\n",
    "    return ' '.join(tokens)\n"
   ]
  },
  {
   "cell_type": "code",
   "execution_count": 17,
   "id": "2d616887",
   "metadata": {},
   "outputs": [],
   "source": [
    "# Apply cleaning to your dataset\n",
    "df[\"clean_comment\"]=df[\"clean_comment\"].apply(cleaning)"
   ]
  },
  {
   "cell_type": "code",
   "execution_count": 34,
   "id": "fe8b0588",
   "metadata": {},
   "outputs": [],
   "source": [
    "from sklearn.feature_extraction.text import CountVectorizer\n",
    "from sklearn.ensemble import RandomForestClassifier\n",
    "from sklearn.model_selection import train_test_split, cross_val_predict, StratifiedKFold\n",
    "from sklearn.metrics import accuracy_score, classification_report, confusion_matrix\n",
    "import matplotlib.pyplot as plt\n",
    "import seaborn as sns"
   ]
  },
  {
   "cell_type": "code",
   "execution_count": 19,
   "id": "6d50f5a4",
   "metadata": {},
   "outputs": [],
   "source": [
    "# Vectorize the comments using bag of words\n",
    "vectorizer=CountVectorizer(max_features=10000)"
   ]
  },
  {
   "cell_type": "code",
   "execution_count": 20,
   "id": "9bd9bf17",
   "metadata": {},
   "outputs": [],
   "source": [
    "X=vectorizer.fit_transform(df[\"clean_comment\"]).toarray()\n",
    "y=df[\"category\"]"
   ]
  },
  {
   "cell_type": "code",
   "execution_count": 21,
   "id": "d36c863c",
   "metadata": {},
   "outputs": [
    {
     "data": {
      "text/plain": [
       "(36793, 10000)"
      ]
     },
     "execution_count": 21,
     "metadata": {},
     "output_type": "execute_result"
    }
   ],
   "source": [
    "X.shape"
   ]
  },
  {
   "cell_type": "code",
   "execution_count": 23,
   "id": "0e1594ef",
   "metadata": {},
   "outputs": [
    {
     "data": {
      "text/plain": [
       "array([[0, 0, 0, ..., 0, 0, 0],\n",
       "       [0, 0, 0, ..., 0, 0, 0],\n",
       "       [0, 0, 0, ..., 0, 0, 0],\n",
       "       ...,\n",
       "       [0, 0, 0, ..., 0, 0, 0],\n",
       "       [0, 0, 0, ..., 0, 0, 0],\n",
       "       [0, 0, 0, ..., 0, 0, 0]], shape=(36793, 10000))"
      ]
     },
     "execution_count": 23,
     "metadata": {},
     "output_type": "execute_result"
    }
   ],
   "source": [
    "X"
   ]
  },
  {
   "cell_type": "code",
   "execution_count": 24,
   "id": "bfb48033",
   "metadata": {},
   "outputs": [
    {
     "data": {
      "text/plain": [
       "0        1\n",
       "1        1\n",
       "2       -1\n",
       "3        0\n",
       "4        1\n",
       "        ..\n",
       "37244    0\n",
       "37245    1\n",
       "37246    0\n",
       "37247    1\n",
       "37248    0\n",
       "Name: category, Length: 36793, dtype: int64"
      ]
     },
     "execution_count": 24,
     "metadata": {},
     "output_type": "execute_result"
    }
   ],
   "source": [
    "y"
   ]
  },
  {
   "cell_type": "code",
   "execution_count": 25,
   "id": "af305601",
   "metadata": {},
   "outputs": [
    {
     "name": "stderr",
     "output_type": "stream",
     "text": [
      "2025/07/03 13:44:44 INFO mlflow.tracking.fluent: Experiment with name 'Baseline' does not exist. Creating a new experiment.\n"
     ]
    },
    {
     "data": {
      "text/plain": [
       "<Experiment: artifact_location='mlflow-artifacts:/2a1ece56c2054706aeea0e66913d7ff9', creation_time=1751530485901, experiment_id='0', last_update_time=1751530485901, lifecycle_stage='active', name='Baseline', tags={}>"
      ]
     },
     "execution_count": 25,
     "metadata": {},
     "output_type": "execute_result"
    }
   ],
   "source": [
    "mlflow.set_experiment(\"Baseline\")"
   ]
  },
  {
   "cell_type": "code",
   "execution_count": 26,
   "id": "b9491229",
   "metadata": {},
   "outputs": [],
   "source": [
    "# split the data into training and testing sets\n",
    "X_train,X_test,y_train,y_test=train_test_split(X,y,test_size=0.2,random_state=42,stratify=y)"
   ]
  },
  {
   "cell_type": "code",
   "execution_count": 35,
   "id": "ff3bba94",
   "metadata": {},
   "outputs": [
    {
     "name": "stdout",
     "output_type": "stream",
     "text": [
      "🏃 View run RandomForest_Baseline_TrainTestSplit at: https://dagshub.com/rohanjoshi2005/sentiment_analysis.mlflow/#/experiments/0/runs/32dda1c1dce34702b1dd7bdcdefeaa19\n",
      "🧪 View experiment at: https://dagshub.com/rohanjoshi2005/sentiment_analysis.mlflow/#/experiments/0\n",
      "Accuracy : 0.6462834624269602\n"
     ]
    },
    {
     "data": {
      "image/png": "[encoded data removed]",
      "text/plain": [
       "<Figure size 800x600 with 2 Axes>"
      ]
     },
     "metadata": {},
     "output_type": "display_data"
    }
   ],
   "source": [
    "import mlflow.sklearn\n",
    "\n",
    "\n",
    "with mlflow.start_run() as run:\n",
    "  # Log a description for a run\n",
    "  mlflow.set_tag(\"mlflow.runName\",\"RandomForest_Baseline_TrainTestSplit\")\n",
    "  mlflow.set_tag(\"experiment_type\",\"baseline\")\n",
    "  mlflow.set_tag(\"model_type\",\"RandomForestClassifier\")\n",
    "\n",
    "  # Add a description\n",
    "  mlflow.set_tag(\"description\",\"Baseline RandomForest model for sentiment analysis using bag of words (BOW)\")\n",
    "\n",
    "  # log parameters for vectorizer\n",
    "  mlflow.log_param(\"vectorizer_type\",\"CountVectorizer\")\n",
    "  mlflow.log_param(\"Vectorizer_max_features\",vectorizer.max_features)\n",
    "\n",
    "  # Log Random Forest parameters\n",
    "  n_estimators=200\n",
    "  max_depth=15\n",
    "  mlflow.log_param(\"n_estimators\",n_estimators)\n",
    "  mlflow.log_param(\"max_depth\",max_depth)\n",
    "\n",
    "  # Create and train\n",
    "  model=RandomForestClassifier(n_estimators=n_estimators,max_depth=max_depth,random_state=42)\n",
    "  model.fit(X_train,y_train)\n",
    "\n",
    "  # Make predictions on the test set\n",
    "  y_pred=model.predict(X_test)\n",
    "\n",
    "  # Log Metrics for each class and accuracy\n",
    "  accuracy=accuracy_score(y_test,y_pred)\n",
    "  mlflow.log_metric(\"accuracy\",accuracy)\n",
    "\n",
    "  classification_rep=classification_report(y_test,y_pred,output_dict=True)\n",
    "\n",
    "  for label,metrics in classification_rep.items():\n",
    "    if isinstance(metrics,dict):\n",
    "      for metric,value in metrics.items():\n",
    "        mlflow.log_metric(f\"{label}_{metric}\",value)\n",
    "\n",
    "  # Confusion matrix plot\n",
    "  conf_matrix=confusion_matrix(y_test,y_pred)\n",
    "  plt.figure(figsize=(8,6))\n",
    "  sns.heatmap(conf_matrix,annot=True,fmt=\"d\",cmap=\"Blues\")\n",
    "  plt.xlabel(\"Predicted\")\n",
    "  plt.ylabel(\"Actual\")\n",
    "  plt.title(\"Confusion matrix\")\n",
    "\n",
    "\n",
    "  # Save and log the confusion matrix plot\n",
    "  plt.savefig(\"confusion_matrix.png\")\n",
    "  mlflow.log_artifact(\"confusion_matrix.png\")\n",
    "\n",
    "  # # Log the model\n",
    "  # mlflow.sklearn.log_model(model,\"model\")\n",
    "\n",
    "  # Log the random forest model\n",
    "  mlflow.sklearn.save_model(model,\"Random_Forest_Model\")\n",
    "  # Then log the directory as artifacts\n",
    "  mlflow.log_artifacts(\"Random_Forest_Model\")\n",
    "\n",
    "\n",
    "  # optionally log the dataset\n",
    "  df.to_csv(\"dataset.csv\",index=False)\n",
    "  mlflow.log_artifact(\"dataset.csv\")\n",
    "\n",
    "# display accuracy\n",
    "print(f\"Accuracy : {accuracy}\")\n"
   ]
  },
  {
   "cell_type": "code",
   "execution_count": 36,
   "id": "4e94b57d",
   "metadata": {},
   "outputs": [
    {
     "name": "stdout",
     "output_type": "stream",
     "text": [
      "              precision    recall  f1-score   support\n",
      "\n",
      "          -1       1.00      0.01      0.02      1650\n",
      "           0       0.68      0.80      0.74      2555\n",
      "           1       0.62      0.85      0.72      3154\n",
      "\n",
      "    accuracy                           0.65      7359\n",
      "   macro avg       0.77      0.55      0.49      7359\n",
      "weighted avg       0.73      0.65      0.57      7359\n",
      "\n"
     ]
    }
   ],
   "source": [
    "print(classification_report(y_test,y_pred))"
   ]
  },
  {
   "cell_type": "code",
   "execution_count": 38,
   "id": "fad1e5c8",
   "metadata": {},
   "outputs": [],
   "source": [
    "df.to_csv(\"reddit_preprocessing.csv\",index=False)"
   ]
  },
  {
   "cell_type": "code",
   "execution_count": 40,
   "id": "1e53532d",
   "metadata": {},
   "outputs": [
    {
     "data": {
      "text/html": [
       "<div>\n",
       "<style scoped>\n",
       "    .dataframe tbody tr th:only-of-type {\n",
       "        vertical-align: middle;\n",
       "    }\n",
       "\n",
       "    .dataframe tbody tr th {\n",
       "        vertical-align: top;\n",
       "    }\n",
       "\n",
       "    .dataframe thead th {\n",
       "        text-align: right;\n",
       "    }\n",
       "</style>\n",
       "<table border=\"1\" class=\"dataframe\">\n",
       "  <thead>\n",
       "    <tr style=\"text-align: right;\">\n",
       "      <th></th>\n",
       "      <th>clean_comment</th>\n",
       "      <th>category</th>\n",
       "    </tr>\n",
       "  </thead>\n",
       "  <tbody>\n",
       "    <tr>\n",
       "      <th>0</th>\n",
       "      <td>family mormon never tried explain still stare ...</td>\n",
       "      <td>1</td>\n",
       "    </tr>\n",
       "    <tr>\n",
       "      <th>1</th>\n",
       "      <td>buddhism much lot compatible christianity espe...</td>\n",
       "      <td>1</td>\n",
       "    </tr>\n",
       "    <tr>\n",
       "      <th>2</th>\n",
       "      <td>seriously say thing first get complex explain ...</td>\n",
       "      <td>-1</td>\n",
       "    </tr>\n",
       "    <tr>\n",
       "      <th>3</th>\n",
       "      <td>learned want teach different focus goal wrappi...</td>\n",
       "      <td>0</td>\n",
       "    </tr>\n",
       "    <tr>\n",
       "      <th>4</th>\n",
       "      <td>benefit may want read living buddha living chr...</td>\n",
       "      <td>1</td>\n",
       "    </tr>\n",
       "  </tbody>\n",
       "</table>\n",
       "</div>"
      ],
      "text/plain": [
       "                                       clean_comment  category\n",
       "0  family mormon never tried explain still stare ...         1\n",
       "1  buddhism much lot compatible christianity espe...         1\n",
       "2  seriously say thing first get complex explain ...        -1\n",
       "3  learned want teach different focus goal wrappi...         0\n",
       "4  benefit may want read living buddha living chr...         1"
      ]
     },
     "execution_count": 40,
     "metadata": {},
     "output_type": "execute_result"
    }
   ],
   "source": [
    "pd.read_csv(\"reddit_preprocessing.csv\").head()"
   ]
  },
  {
   "cell_type": "code",
   "execution_count": null,
   "id": "688f0b6d",
   "metadata": {},
   "outputs": [],
   "source": []
  }
 ],
 "metadata": {
  "kernelspec": {
   "display_name": "test",
   "language": "python",
   "name": "python3"
  },
  "language_info": {
   "codemirror_mode": {
    "name": "ipython",
    "version": 3
   },
   "file_extension": ".py",
   "mimetype": "text/x-python",
   "name": "python",
   "nbconvert_exporter": "python",
   "pygments_lexer": "ipython3",
   "version": "3.12.7"
  }
 },
 "nbformat": 4,
 "nbformat_minor": 5
}
